{
 "cells": [
  {
   "cell_type": "code",
   "execution_count": 1,
   "metadata": {},
   "outputs": [
    {
     "name": "stderr",
     "output_type": "stream",
     "text": [
      "Using TensorFlow backend.\n"
     ]
    }
   ],
   "source": [
    "import os\n",
    "import cv2\n",
    "import keras \n",
    "import numpy as np\n",
    "import xgboost as xgb\n",
    "import tensorflow as tf\n",
    "from keras.layers import *\n",
    "from keras.models import Model\n",
    "import matplotlib.pyplot as plt\n",
    "from keras.utils import np_utils\n",
    "from keras.optimizers import Adam\n",
    "from keras.models import Sequential\n",
    "from keras.preprocessing import image\n",
    "from sklearn.preprocessing import LabelEncoder\n",
    "from sklearn.model_selection import train_test_split\n",
    "from keras.callbacks import ModelCheckpoint , EarlyStopping\n",
    "from keras.applications.resnet50 import ResNet50 , preprocess_input"
   ]
  },
  {
   "cell_type": "code",
   "execution_count": 2,
   "metadata": {},
   "outputs": [],
   "source": [
    "labels = os.listdir('images/train')"
   ]
  },
  {
   "cell_type": "code",
   "execution_count": 8,
   "metadata": {},
   "outputs": [
    {
     "name": "stdout",
     "output_type": "stream",
     "text": [
      "angry\n",
      "fear\n",
      "happy\n",
      "neutral\n",
      "sad\n",
      "surprise\n"
     ]
    }
   ],
   "source": [
    "XTrain = []\n",
    "YTrain = []\n",
    "DataFrame = []\n",
    "for i in labels:\n",
    "    NameOfImage = os.listdir('images/train/'+i)\n",
    "    for images_name in NameOfImage:\n",
    "        img = cv2.imread( 'images/train/' + i + '/' + images_name)\n",
    "        img = cv2.resize(img , (48,48), interpolation = cv2.INTER_AREA)\n",
    "        XTrain.append(img)\n",
    "        YTrain.append(i)\n",
    "XTrain = np.array(XTrain)\n",
    "YTrain = np.array(YTrain) "
   ]
  },
  {
   "cell_type": "code",
   "execution_count": 9,
   "metadata": {},
   "outputs": [],
   "source": [
    "labels_validation = os.listdir('images/validation')"
   ]
  },
  {
   "cell_type": "code",
   "execution_count": 10,
   "metadata": {},
   "outputs": [],
   "source": [
    "le = LabelEncoder()\n",
    "YTrain = le.fit_transform(YTrain)"
   ]
  },
  {
   "cell_type": "code",
   "execution_count": 11,
   "metadata": {},
   "outputs": [],
   "source": [
    "YTrain = np_utils.to_categorical(YTrain)"
   ]
  },
  {
   "cell_type": "code",
   "execution_count": 13,
   "metadata": {},
   "outputs": [],
   "source": [
    "XTrain = XTrain/255"
   ]
  },
  {
   "cell_type": "code",
   "execution_count": 20,
   "metadata": {},
   "outputs": [],
   "source": [
    "model = Sequential()\n",
    "model.add(Conv2D(32, (3, 3), padding='same', activation='relu',\n",
    "                        input_shape=(48, 48, 3)))\n",
    "model.add(Conv2D(32, (3, 3), padding='same', activation='relu'))\n",
    "#model.add(Conv2D(32, (3, 3), padding='same', activation='relu'))\n",
    "model.add(MaxPooling2D(pool_size=(2, 2)))\n",
    "model.add(Conv2D(64, (3, 3), padding='same', activation='relu'))\n",
    "model.add(Conv2D(64, (3, 3), padding='same', activation='relu'))\n",
    "#model.add(Conv2D(64, (3, 3), padding='same', activation='relu'))\n",
    "model.add(MaxPooling2D(pool_size=(2, 2)))\n",
    "model.add(Conv2D(128, (3, 3), padding='same', activation='relu'))\n",
    "model.add(Conv2D(128, (3, 3), padding='same', activation='relu'))\n",
    "#model.add(Conv2D(128, (3, 3), padding='same', activation='relu'))\n",
    "model.add(MaxPooling2D(pool_size=(2, 2)))\n",
    "\n",
    "model.add(Flatten())  # this converts our 3D feature maps to 1D feature vectors\n",
    "model.add(Dense(64, activation='relu'))\n",
    "#model.add(Dense(32, activation='relu'))\n",
    "model.add(Dense(6, activation='softmax'))\n",
    "\n",
    "# optimizer:\n",
    "model.compile(loss='categorical_crossentropy', optimizer='adam', metrics=['accuracy'])"
   ]
  },
  {
   "cell_type": "code",
   "execution_count": 21,
   "metadata": {},
   "outputs": [],
   "source": [
    "X_train, X_test, y_train, y_test = train_test_split(XTrain, YTrain, test_size=0.3, random_state=33)"
   ]
  },
  {
   "cell_type": "code",
   "execution_count": 22,
   "metadata": {},
   "outputs": [
    {
     "name": "stdout",
     "output_type": "stream",
     "text": [
      "Train on 20174 samples, validate on 8647 samples\n",
      "Epoch 1/9\n",
      "20174/20174 [==============================] - 132s 7ms/step - loss: 1.7213 - accuracy: 0.2741 - val_loss: 1.5866 - val_accuracy: 0.3405\n",
      "\n",
      "Epoch 00001: val_loss improved from inf to 1.58659, saving model to FaceExpressionModel.h5\n",
      "Epoch 2/9\n",
      "20174/20174 [==============================] - 135s 7ms/step - loss: 1.4865 - accuracy: 0.4058 - val_loss: 1.3762 - val_accuracy: 0.4546\n",
      "\n",
      "Epoch 00002: val_loss improved from 1.58659 to 1.37617, saving model to FaceExpressionModel.h5\n",
      "Epoch 3/9\n",
      "20174/20174 [==============================] - 135s 7ms/step - loss: 1.3299 - accuracy: 0.4772 - val_loss: 1.3152 - val_accuracy: 0.4869\n",
      "\n",
      "Epoch 00003: val_loss improved from 1.37617 to 1.31519, saving model to FaceExpressionModel.h5\n",
      "Epoch 4/9\n",
      "20174/20174 [==============================] - 135s 7ms/step - loss: 1.2315 - accuracy: 0.5201 - val_loss: 1.2616 - val_accuracy: 0.5014\n",
      "\n",
      "Epoch 00004: val_loss improved from 1.31519 to 1.26159, saving model to FaceExpressionModel.h5\n",
      "Epoch 5/9\n",
      "20174/20174 [==============================] - 139s 7ms/step - loss: 1.1446 - accuracy: 0.5559 - val_loss: 1.2364 - val_accuracy: 0.5235\n",
      "\n",
      "Epoch 00005: val_loss improved from 1.26159 to 1.23643, saving model to FaceExpressionModel.h5\n",
      "Epoch 6/9\n",
      "20174/20174 [==============================] - 149s 7ms/step - loss: 1.0582 - accuracy: 0.5892 - val_loss: 1.2002 - val_accuracy: 0.5425\n",
      "\n",
      "Epoch 00006: val_loss improved from 1.23643 to 1.20016, saving model to FaceExpressionModel.h5\n",
      "Epoch 7/9\n",
      "20174/20174 [==============================] - 136s 7ms/step - loss: 0.9738 - accuracy: 0.6259 - val_loss: 1.2010 - val_accuracy: 0.5507\n",
      "\n",
      "Epoch 00007: val_loss did not improve from 1.20016\n",
      "Epoch 8/9\n",
      "20174/20174 [==============================] - 136s 7ms/step - loss: 0.8719 - accuracy: 0.6654 - val_loss: 1.3130 - val_accuracy: 0.5391\n",
      "\n",
      "Epoch 00008: val_loss did not improve from 1.20016\n",
      "Epoch 9/9\n",
      "20174/20174 [==============================] - 136s 7ms/step - loss: 0.7721 - accuracy: 0.7079 - val_loss: 1.3586 - val_accuracy: 0.5413\n",
      "\n",
      "Epoch 00009: val_loss did not improve from 1.20016\n"
     ]
    },
    {
     "data": {
      "text/plain": [
       "<keras.callbacks.callbacks.History at 0x24ef8cbfbc8>"
      ]
     },
     "execution_count": 22,
     "metadata": {},
     "output_type": "execute_result"
    }
   ],
   "source": [
    "checkpoint = ModelCheckpoint('FaceExpressionModel.h5', monitor = 'val_loss' , verbose = 1 ,save_best_only = True)\n",
    "callbacks_list = [checkpoint]\n",
    "model.fit(X_train , y_train , epochs=9 , validation_data=(X_test , y_test) , callbacks= callbacks_list)"
   ]
  },
  {
   "cell_type": "code",
   "execution_count": null,
   "metadata": {},
   "outputs": [],
   "source": []
  }
 ],
 "metadata": {
  "kernelspec": {
   "display_name": "Python 3",
   "language": "python",
   "name": "python3"
  },
  "language_info": {
   "codemirror_mode": {
    "name": "ipython",
    "version": 3
   },
   "file_extension": ".py",
   "mimetype": "text/x-python",
   "name": "python",
   "nbconvert_exporter": "python",
   "pygments_lexer": "ipython3",
   "version": "3.7.4"
  }
 },
 "nbformat": 4,
 "nbformat_minor": 2
}
